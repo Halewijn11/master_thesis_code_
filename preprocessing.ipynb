{
 "cells": [
  {
   "cell_type": "code",
   "execution_count": 2,
   "id": "9c4c29e2-5081-4956-9063-a2d51fda58e0",
   "metadata": {},
   "outputs": [],
   "source": [
    "import sys\n",
    "sys.path.append(\"C:\\\\Users\\\\User\\\\Vrije Universiteit Brussel\\\\Mehdi Feizpour - Halewijn's Thesis Project\\\\master thesis\\\\other\")\n",
    "sys.path.append(\"C:\\\\Users\\\\mfeizpou\\\\OneDrive - Vrije Universiteit Brussel\\\\Halewijn's Thesis Project\\\\master thesis\\other\")\n",
    "\n",
    "\n",
    "import importlib\n",
    "import my_functions as mf\n",
    "import filepaths as fp\n",
    "import figure_label_names as fln\n",
    "import color_maps as cm\n",
    "import variables\n",
    "import uuid\n",
    "from datetime import datetime\n",
    "\n",
    "\n",
    "mf = importlib.reload(mf)\n",
    "fp = importlib.reload(fp)\n",
    "cm = importlib.reload(cm)\n",
    "variables = importlib.reload(variables)\n",
    "import tkinter as tk\n",
    "from tkinter import *\n",
    "import pandas as pd\n",
    "import numpy as np\n",
    "import os\n",
    "import random\n",
    "import seaborn as sns\n",
    "import matplotlib.pyplot as plt\n",
    "import matplotlib.animation as animation"
   ]
  },
  {
   "cell_type": "code",
   "execution_count": 3,
   "id": "4a232845-a663-4662-94a3-48bd0c22b98c",
   "metadata": {},
   "outputs": [],
   "source": [
    "def reload_libraries(): \n",
    "    import importlib\n",
    "    import my_functions as mf\n",
    "    import filepaths as fp\n",
    "    import color_maps as cm\n",
    "    import variables\n",
    "    mf = importlib.reload(mf)\n",
    "    fp = importlib.reload(fp)\n",
    "    cm = importlib.reload(cm)\n",
    "    variables = importlib.reload(variables)\n",
    "    print('done')"
   ]
  },
  {
   "cell_type": "code",
   "execution_count": 4,
   "id": "466c5713-64e6-4225-8bd1-c750e61e8dcb",
   "metadata": {},
   "outputs": [
    {
     "name": "stdout",
     "output_type": "stream",
     "text": [
      "done\n"
     ]
    }
   ],
   "source": [
    "reload_libraries()"
   ]
  },
  {
   "cell_type": "markdown",
   "id": "b7a6bc7d-8d30-4bff-b904-47617dc3b91f",
   "metadata": {},
   "source": [
    "# Preprocessing"
   ]
  },
  {
   "cell_type": "code",
   "execution_count": 9,
   "id": "3a88215a-98fa-48e8-b361-e494946fd942",
   "metadata": {},
   "outputs": [],
   "source": [
    "\"\"\"Parameters\"\"\"\n",
    "fileTypeRaman = -1\n",
    "rangeSpec = range(0, 1015) #0-644 = full range\n",
    "raman_spectra_path = fp.raman_spectra_path"
   ]
  },
  {
   "cell_type": "code",
   "execution_count": null,
   "id": "a9bd188e-98f5-4962-8e96-58e96b33db01",
   "metadata": {},
   "outputs": [],
   "source": [
    "def DataFileCleaner(file, filType=4, decimal=','):\n",
    "    \n",
    "    if filType == 0:\n",
    "        #Single Files in one file same spot\n",
    "        data = read_csv(file, sep=\"\\t\", header = None, decimal=decimal, engine='python')\n",
    "        data = data.drop([0], axis = 0)\n",
    "        data = data.drop([3,4], axis = 1)\n",
    "        data.columns = ['T','RS', 'I'] \n",
    "    \n",
    "    elif filType == 1:\n",
    "        #Single Files in one file\n",
    "        data = read_csv(file, sep=\"\\t\", header = None, decimal=decimal, engine='python')\n",
    "        data = data.drop([0], axis = 0)\n",
    "        data = data.drop([3,4], axis = 1)\n",
    "        data.columns = ['Z','RS', 'I']    \n",
    "    elif filType == 2:\n",
    "        #Single Files\n",
    "        data = read_csv(file, sep=\"\\t\", header = None, decimal=decimal, engine='python')\n",
    "        data = data.drop([0], axis = 0)\n",
    "        data = data.drop([2], axis = 1)\n",
    "        data.columns = ['RS', 'I']    \n",
    "        \n",
    "    elif filType == 3:\n",
    "        #depth\n",
    "        data = read_csv(file, sep=\"\\t\", header = None, decimal=decimal, engine='python')\n",
    "        data = data.drop([0], axis = 0)\n",
    "        data = data.drop([3,4], axis = 1)\n",
    "        data.columns = ['Z', 'RS', 'I']  \n",
    "    elif filType == 4:\n",
    "        #MAP\n",
    "        data = read_csv(file, sep=\"\\t\", header = None, decimal=decimal, engine='python')\n",
    "        data = data.drop([0], axis = 0)\n",
    "        data = data.drop([4,5,6], axis = 1)\n",
    "        data.columns = ['X', 'Y', 'RS', 'I']\n",
    "    elif filType == 5:\n",
    "        #FTIR Maps\n",
    "        data = read_csv(file, sep=\";\", header = None, decimal=decimal, engine='python')\n",
    "        # data = data.drop([0], axis = 0)\n",
    "        # data = data.drop([4,5,6], axis = 1)\n",
    "        # data.columns = ['X', 'Y', 'RS', 'I']\n",
    "    \n",
    "    return(data) #lineListCleaned"
   ]
  },
  {
   "cell_type": "code",
   "execution_count": 10,
   "id": "a6f935ae-daa4-45bf-89d0-94bfd1445fc0",
   "metadata": {},
   "outputs": [
    {
     "data": {
      "text/plain": [
       "['0fe84005.txt',\n",
       " '0fe84005.wdf',\n",
       " '18f34e30.txt',\n",
       " '18f34e30.wdf',\n",
       " '3a38deff.txt',\n",
       " '3a38deff.wdf',\n",
       " '3db9376b.txt',\n",
       " '3db9376b.wdf',\n",
       " '43d666c7.txt',\n",
       " '43d666c7.wdf',\n",
       " '59d80f0e.txt',\n",
       " '59d80f0e.wdf',\n",
       " '5a72f9d2.txt',\n",
       " '5a72f9d2.wdf',\n",
       " '5bad4da8.txt',\n",
       " '5bad4da8.wdf',\n",
       " '6108cb24.txt',\n",
       " '6108cb24.wdf',\n",
       " '71de437d.txt',\n",
       " '71de437d.wdf',\n",
       " '98974bd4.txt',\n",
       " '98974bd4.wdf',\n",
       " 'c273e84f.txt',\n",
       " 'c273e84f.wdf',\n",
       " 'c3a8696a.txt',\n",
       " 'c3a8696a.wdf',\n",
       " 'd170fb5a.txt',\n",
       " 'd170fb5a.wdf',\n",
       " 'd819db8b.txt',\n",
       " 'd819db8b.wdf',\n",
       " 'f10e4597.txt',\n",
       " 'f10e4597.wdf',\n",
       " 'f14701d7.txt',\n",
       " 'f14701d7.wdf',\n",
       " 'topas_spectrum.txt',\n",
       " 'topas_spectrum.wdf']"
      ]
     },
     "execution_count": 10,
     "metadata": {},
     "output_type": "execute_result"
    }
   ],
   "source": [
    "[name for name in os.listdir(raman_spectra_path)]"
   ]
  },
  {
   "cell_type": "code",
   "execution_count": 6,
   "id": "fe438524-0de9-4a8e-8280-93976476f77e",
   "metadata": {},
   "outputs": [
    {
     "data": {
      "text/plain": [
       "['0fe84005.txt',\n",
       " '0fe84005.wdf',\n",
       " '18f34e30.txt',\n",
       " '18f34e30.wdf',\n",
       " '3a38deff.txt',\n",
       " '3a38deff.wdf',\n",
       " '3db9376b.txt',\n",
       " '3db9376b.wdf',\n",
       " '43d666c7.txt',\n",
       " '43d666c7.wdf',\n",
       " '59d80f0e.txt',\n",
       " '59d80f0e.wdf',\n",
       " '5a72f9d2.txt',\n",
       " '5a72f9d2.wdf',\n",
       " '5bad4da8.txt',\n",
       " '5bad4da8.wdf',\n",
       " '6108cb24.txt',\n",
       " '6108cb24.wdf',\n",
       " '71de437d.txt',\n",
       " '71de437d.wdf',\n",
       " '98974bd4.txt',\n",
       " '98974bd4.wdf',\n",
       " 'c273e84f.txt',\n",
       " 'c273e84f.wdf',\n",
       " 'c3a8696a.txt',\n",
       " 'c3a8696a.wdf',\n",
       " 'd170fb5a.txt',\n",
       " 'd170fb5a.wdf',\n",
       " 'd819db8b.txt',\n",
       " 'd819db8b.wdf',\n",
       " 'f10e4597.txt',\n",
       " 'f10e4597.wdf',\n",
       " 'f14701d7.txt',\n",
       " 'f14701d7.wdf',\n",
       " 'topas_spectrum.txt',\n",
       " 'topas_spectrum.wdf']"
      ]
     },
     "execution_count": 6,
     "metadata": {},
     "output_type": "execute_result"
    }
   ],
   "source": [
    "os.listdir(fp.raman_spectra_path)"
   ]
  }
 ],
 "metadata": {
  "kernelspec": {
   "display_name": "Python 3 (ipykernel)",
   "language": "python",
   "name": "python3"
  },
  "language_info": {
   "codemirror_mode": {
    "name": "ipython",
    "version": 3
   },
   "file_extension": ".py",
   "mimetype": "text/x-python",
   "name": "python",
   "nbconvert_exporter": "python",
   "pygments_lexer": "ipython3",
   "version": "3.10.9"
  }
 },
 "nbformat": 4,
 "nbformat_minor": 5
}
